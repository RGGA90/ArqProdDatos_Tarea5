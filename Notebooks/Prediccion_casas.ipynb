{
 "cells": [
  {
   "cell_type": "markdown",
   "id": "36886649-09ef-4564-b5ae-2ac0e254fcb6",
   "metadata": {},
   "source": [
    "# Prediccion de precios de las casas"
   ]
  },
  {
   "cell_type": "markdown",
   "id": "fe9e173c-d1e3-4976-a6b1-6aba5eb61650",
   "metadata": {},
   "source": [
    "## Importamos librerias"
   ]
  },
  {
   "cell_type": "code",
   "execution_count": 1,
   "id": "729b4fc9-b6d4-4b0e-a4a2-2a3eeb33aa1c",
   "metadata": {},
   "outputs": [],
   "source": [
    "#Libreria para trabajar con dataframes\n",
    "import pandas as pd\n",
    "# Libreria para vectorizar \n",
    "import numpy as np\n",
    "# Libreria para trabajar con paths relativos\n",
    "import os\n",
    "# Libreria para usar modelos de machine learning\n",
    "from sklearn.linear_model import LinearRegression\n",
    "# Libreria para estandarizar valores numericos, libreria para hacer one hot encoding\n",
    "from sklearn.preprocessing import StandardScaler, OneHotEncoder\n",
    "# Libreria para imputar valores\n",
    "from sklearn.impute import SimpleImputer\n",
    "# Libreria para hacer un pipeline de transformaciones\n",
    "from sklearn.pipeline import Pipeline\n",
    "# Libreria para juntar todos los pasos de preprocesamiento en una funcion de transformacion\n",
    "from sklearn.compose import ColumnTransformer\n",
    "# Importo una funcion que yo mismo cree en modulo de python que vive a la misma altura (en el mismo folder y mismo nivel) que mi notebook actual\n",
    "from herramientas import borrar_columnas"
   ]
  },
  {
   "cell_type": "markdown",
   "id": "caf6b013-8b8a-48a6-a19c-ef147d1ceaac",
   "metadata": {},
   "source": [
    "## Carga de datos"
   ]
  },
  {
   "cell_type": "code",
   "execution_count": 4,
   "id": "227e891e-7bea-44ed-b9a8-0dd667ba1d2d",
   "metadata": {},
   "outputs": [],
   "source": [
    "#1) Leer datos de un archivo csv, usamos la libreria de pandas(pd)\n",
    "train=pd.read_csv('../Datos/train.csv')"
   ]
  },
  {
   "cell_type": "markdown",
   "id": "e7a758c2-7849-4eeb-b0c0-86d2760224d2",
   "metadata": {},
   "source": [
    "## Exploracion inicial de datos"
   ]
  },
  {
   "cell_type": "code",
   "execution_count": 3,
   "id": "17beed05-7c30-42d5-9544-6777c14e5696",
   "metadata": {},
   "outputs": [
    {
     "name": "stdout",
     "output_type": "stream",
     "text": [
      "<class 'pandas.core.frame.DataFrame'>\n",
      "RangeIndex: 1460 entries, 0 to 1459\n",
      "Data columns (total 81 columns):\n",
      " #   Column         Non-Null Count  Dtype  \n",
      "---  ------         --------------  -----  \n",
      " 0   Id             1460 non-null   int64  \n",
      " 1   MSSubClass     1460 non-null   int64  \n",
      " 2   MSZoning       1460 non-null   object \n",
      " 3   LotFrontage    1201 non-null   float64\n",
      " 4   LotArea        1460 non-null   int64  \n",
      " 5   Street         1460 non-null   object \n",
      " 6   Alley          91 non-null     object \n",
      " 7   LotShape       1460 non-null   object \n",
      " 8   LandContour    1460 non-null   object \n",
      " 9   Utilities      1460 non-null   object \n",
      " 10  LotConfig      1460 non-null   object \n",
      " 11  LandSlope      1460 non-null   object \n",
      " 12  Neighborhood   1460 non-null   object \n",
      " 13  Condition1     1460 non-null   object \n",
      " 14  Condition2     1460 non-null   object \n",
      " 15  BldgType       1460 non-null   object \n",
      " 16  HouseStyle     1460 non-null   object \n",
      " 17  OverallQual    1460 non-null   int64  \n",
      " 18  OverallCond    1460 non-null   int64  \n",
      " 19  YearBuilt      1460 non-null   int64  \n",
      " 20  YearRemodAdd   1460 non-null   int64  \n",
      " 21  RoofStyle      1460 non-null   object \n",
      " 22  RoofMatl       1460 non-null   object \n",
      " 23  Exterior1st    1460 non-null   object \n",
      " 24  Exterior2nd    1460 non-null   object \n",
      " 25  MasVnrType     1452 non-null   object \n",
      " 26  MasVnrArea     1452 non-null   float64\n",
      " 27  ExterQual      1460 non-null   object \n",
      " 28  ExterCond      1460 non-null   object \n",
      " 29  Foundation     1460 non-null   object \n",
      " 30  BsmtQual       1423 non-null   object \n",
      " 31  BsmtCond       1423 non-null   object \n",
      " 32  BsmtExposure   1422 non-null   object \n",
      " 33  BsmtFinType1   1423 non-null   object \n",
      " 34  BsmtFinSF1     1460 non-null   int64  \n",
      " 35  BsmtFinType2   1422 non-null   object \n",
      " 36  BsmtFinSF2     1460 non-null   int64  \n",
      " 37  BsmtUnfSF      1460 non-null   int64  \n",
      " 38  TotalBsmtSF    1460 non-null   int64  \n",
      " 39  Heating        1460 non-null   object \n",
      " 40  HeatingQC      1460 non-null   object \n",
      " 41  CentralAir     1460 non-null   object \n",
      " 42  Electrical     1459 non-null   object \n",
      " 43  1stFlrSF       1460 non-null   int64  \n",
      " 44  2ndFlrSF       1460 non-null   int64  \n",
      " 45  LowQualFinSF   1460 non-null   int64  \n",
      " 46  GrLivArea      1460 non-null   int64  \n",
      " 47  BsmtFullBath   1460 non-null   int64  \n",
      " 48  BsmtHalfBath   1460 non-null   int64  \n",
      " 49  FullBath       1460 non-null   int64  \n",
      " 50  HalfBath       1460 non-null   int64  \n",
      " 51  BedroomAbvGr   1460 non-null   int64  \n",
      " 52  KitchenAbvGr   1460 non-null   int64  \n",
      " 53  KitchenQual    1460 non-null   object \n",
      " 54  TotRmsAbvGrd   1460 non-null   int64  \n",
      " 55  Functional     1460 non-null   object \n",
      " 56  Fireplaces     1460 non-null   int64  \n",
      " 57  FireplaceQu    770 non-null    object \n",
      " 58  GarageType     1379 non-null   object \n",
      " 59  GarageYrBlt    1379 non-null   float64\n",
      " 60  GarageFinish   1379 non-null   object \n",
      " 61  GarageCars     1460 non-null   int64  \n",
      " 62  GarageArea     1460 non-null   int64  \n",
      " 63  GarageQual     1379 non-null   object \n",
      " 64  GarageCond     1379 non-null   object \n",
      " 65  PavedDrive     1460 non-null   object \n",
      " 66  WoodDeckSF     1460 non-null   int64  \n",
      " 67  OpenPorchSF    1460 non-null   int64  \n",
      " 68  EnclosedPorch  1460 non-null   int64  \n",
      " 69  3SsnPorch      1460 non-null   int64  \n",
      " 70  ScreenPorch    1460 non-null   int64  \n",
      " 71  PoolArea       1460 non-null   int64  \n",
      " 72  PoolQC         7 non-null      object \n",
      " 73  Fence          281 non-null    object \n",
      " 74  MiscFeature    54 non-null     object \n",
      " 75  MiscVal        1460 non-null   int64  \n",
      " 76  MoSold         1460 non-null   int64  \n",
      " 77  YrSold         1460 non-null   int64  \n",
      " 78  SaleType       1460 non-null   object \n",
      " 79  SaleCondition  1460 non-null   object \n",
      " 80  SalePrice      1460 non-null   int64  \n",
      "dtypes: float64(3), int64(35), object(43)\n",
      "memory usage: 924.0+ KB\n"
     ]
    }
   ],
   "source": [
    "#2) Conocer las variables con valores faltantes y el tipo de variable en el data set\n",
    "train.info()"
   ]
  },
  {
   "cell_type": "code",
   "execution_count": 4,
   "id": "3e212e8c-0dba-43c5-b019-3f9d4dbf13db",
   "metadata": {},
   "outputs": [
    {
     "data": {
      "text/plain": [
       "Index(['Id', 'MSSubClass', 'MSZoning', 'LotFrontage', 'LotArea', 'Street',\n",
       "       'Alley', 'LotShape', 'LandContour', 'Utilities', 'LotConfig',\n",
       "       'LandSlope', 'Neighborhood', 'Condition1', 'Condition2', 'BldgType',\n",
       "       'HouseStyle', 'OverallQual', 'OverallCond', 'YearBuilt', 'YearRemodAdd',\n",
       "       'RoofStyle', 'RoofMatl', 'Exterior1st', 'Exterior2nd', 'MasVnrType',\n",
       "       'MasVnrArea', 'ExterQual', 'ExterCond', 'Foundation', 'BsmtQual',\n",
       "       'BsmtCond', 'BsmtExposure', 'BsmtFinType1', 'BsmtFinSF1',\n",
       "       'BsmtFinType2', 'BsmtFinSF2', 'BsmtUnfSF', 'TotalBsmtSF', 'Heating',\n",
       "       'HeatingQC', 'CentralAir', 'Electrical', '1stFlrSF', '2ndFlrSF',\n",
       "       'LowQualFinSF', 'GrLivArea', 'BsmtFullBath', 'BsmtHalfBath', 'FullBath',\n",
       "       'HalfBath', 'BedroomAbvGr', 'KitchenAbvGr', 'KitchenQual',\n",
       "       'TotRmsAbvGrd', 'Functional', 'Fireplaces', 'FireplaceQu', 'GarageType',\n",
       "       'GarageYrBlt', 'GarageFinish', 'GarageCars', 'GarageArea', 'GarageQual',\n",
       "       'GarageCond', 'PavedDrive', 'WoodDeckSF', 'OpenPorchSF',\n",
       "       'EnclosedPorch', '3SsnPorch', 'ScreenPorch', 'PoolArea', 'PoolQC',\n",
       "       'Fence', 'MiscFeature', 'MiscVal', 'MoSold', 'YrSold', 'SaleType',\n",
       "       'SaleCondition', 'SalePrice'],\n",
       "      dtype='object')"
      ]
     },
     "execution_count": 4,
     "metadata": {},
     "output_type": "execute_result"
    }
   ],
   "source": [
    "#3)  Obtengo una lista manejable de las columnas del data frame\n",
    "train.columns"
   ]
  },
  {
   "cell_type": "code",
   "execution_count": 5,
   "id": "5928d9cc-692a-4489-9acc-4bbd1579efa9",
   "metadata": {},
   "outputs": [],
   "source": [
    "# 4) Separo mis variables independientes y mi variable de respuesta\n",
    "#guardo una variable solo con mi variable dependiente\n",
    "y=train['SalePrice']\n",
    "#Tiro del dataframe mi variable dependiente y conservo las demas\n",
    "train=train.drop('SalePrice', axis=1)"
   ]
  },
  {
   "cell_type": "code",
   "execution_count": 6,
   "id": "73845d78-ca7b-4cd4-aae5-3ca6ce409bca",
   "metadata": {},
   "outputs": [
    {
     "data": {
      "text/plain": [
       "0       208500\n",
       "1       181500\n",
       "2       223500\n",
       "3       140000\n",
       "4       250000\n",
       "         ...  \n",
       "1455    175000\n",
       "1456    210000\n",
       "1457    266500\n",
       "1458    142125\n",
       "1459    147500\n",
       "Name: SalePrice, Length: 1460, dtype: int64"
      ]
     },
     "execution_count": 6,
     "metadata": {},
     "output_type": "execute_result"
    }
   ],
   "source": [
    "y"
   ]
  },
  {
   "cell_type": "markdown",
   "id": "4b54991d-fd63-41bb-942b-d4284b08db91",
   "metadata": {},
   "source": [
    "## Etapa de preprocesamiento para el modelado"
   ]
  },
  {
   "cell_type": "code",
   "execution_count": 7,
   "id": "817148e0-3f99-4a3d-8ad9-4b82842f231b",
   "metadata": {},
   "outputs": [],
   "source": [
    "# 4) Seleccion inicial de variables\n",
    "# Elimino ciertas variables del data set que no empleare en este ejercicio por practicidad\n",
    "#Agregamos de manera artificial una variable que no existe en el dataset para provar el comportamiento de la estructura try except:\n",
    "# \"ARTIFICIAL\"\n",
    "columnas_eliminar=[\"Id\",\"LotShape\",\"LandSlope\",\"ExterQual\",\"BsmtFinType1\",\"BsmtFinType2\",\"HeatingQC\",\n",
    "           \"CentralAir\",\"KitchenQual\",\"Functional\",\"FireplaceQu\",\"GarageFinish\",\"GarageQual\",\n",
    "           \"GarageCond\",\"PavedDrive\",\"PoolQC\",\"Fence\",\"BsmtQual\",\"BsmtCond\",\"ExterCond\",\"ExterQual\",\"KitchenQual\",\"ARTIFICIAL\"]"
   ]
  },
  {
   "cell_type": "code",
   "execution_count": 8,
   "id": "ad0d76b5-c49d-4568-a4c5-4ecf19d17400",
   "metadata": {},
   "outputs": [
    {
     "name": "stdout",
     "output_type": "stream",
     "text": [
      "Hay una columna que intentaste borrar y que no pertenece al df\n"
     ]
    }
   ],
   "source": [
    "# 5) Seleccion inicial de variables\n",
    "# Uso el metodo pandas.drop para borrar columnas, establezco el eje en el cual borrare elementos (eje 1= columna).\n",
    "try:\n",
    "    train.drop(columnas_eliminar, axis=1)\n",
    "except KeyError:\n",
    "    print(\"Hay una columna que intentaste borrar y que no pertenece al df\")"
   ]
  },
  {
   "cell_type": "code",
   "execution_count": 9,
   "id": "199aea6a-5fb8-4168-8f47-e5b0fa2fa5c4",
   "metadata": {},
   "outputs": [],
   "source": [
    "# 6) Evito los errores ocasiondos por KeyError usando una funcion que almacene en el modulo herramientas\n",
    "# Asigno el dataframe al resultado de invocar la funcion que defini en mi modulo anterior\n",
    "train=borrar_columnas(train,columnas_eliminar)"
   ]
  },
  {
   "cell_type": "code",
   "execution_count": 10,
   "id": "0bbe3b08-9150-4faa-974b-1c6e1cac900b",
   "metadata": {},
   "outputs": [
    {
     "data": {
      "text/plain": [
       "Index(['MSSubClass', 'MSZoning', 'LotFrontage', 'LotArea', 'Street', 'Alley',\n",
       "       'LandContour', 'Utilities', 'LotConfig', 'Neighborhood', 'Condition1',\n",
       "       'Condition2', 'BldgType', 'HouseStyle', 'OverallQual', 'OverallCond',\n",
       "       'YearBuilt', 'YearRemodAdd', 'RoofStyle', 'RoofMatl', 'Exterior1st',\n",
       "       'Exterior2nd', 'MasVnrType', 'MasVnrArea', 'Foundation', 'BsmtExposure',\n",
       "       'BsmtFinSF1', 'BsmtFinSF2', 'BsmtUnfSF', 'TotalBsmtSF', 'Heating',\n",
       "       'Electrical', '1stFlrSF', '2ndFlrSF', 'LowQualFinSF', 'GrLivArea',\n",
       "       'BsmtFullBath', 'BsmtHalfBath', 'FullBath', 'HalfBath', 'BedroomAbvGr',\n",
       "       'KitchenAbvGr', 'TotRmsAbvGrd', 'Fireplaces', 'GarageType',\n",
       "       'GarageYrBlt', 'GarageCars', 'GarageArea', 'WoodDeckSF', 'OpenPorchSF',\n",
       "       'EnclosedPorch', '3SsnPorch', 'ScreenPorch', 'PoolArea', 'MiscFeature',\n",
       "       'MiscVal', 'MoSold', 'YrSold', 'SaleType', 'SaleCondition'],\n",
       "      dtype='object')"
      ]
     },
     "execution_count": 10,
     "metadata": {},
     "output_type": "execute_result"
    }
   ],
   "source": [
    "# 7) Reviso si mi funcion anterior me ayudo a eliminar las columnas que no quiero en el df\n",
    "train.columns"
   ]
  },
  {
   "cell_type": "code",
   "execution_count": 11,
   "id": "92d6b097-4025-4062-8e07-d193cfe4e0d5",
   "metadata": {},
   "outputs": [
    {
     "name": "stdout",
     "output_type": "stream",
     "text": [
      "True\n",
      "3251\n"
     ]
    }
   ],
   "source": [
    "#Reviso si existen valores faltnates en mi data frame\n",
    "# Imprimo un booleano que me diga si hay o no valores faltantes\n",
    "print(train.isnull().values.any())\n",
    "# Imprimo el numero de valores faltantes\n",
    "print(train.isna().sum().sum())"
   ]
  },
  {
   "cell_type": "markdown",
   "id": "95303b56-a062-4a45-805a-216a1cd2c9bd",
   "metadata": {},
   "source": [
    "### Preprocesamiento con sklearn"
   ]
  },
  {
   "cell_type": "markdown",
   "id": "1e3473a5-d09f-4227-8c91-0f89791b143d",
   "metadata": {},
   "source": [
    "#### 1) Defino Pipelines de preprocesamiento para mis distintos tipos de datos"
   ]
  },
  {
   "cell_type": "code",
   "execution_count": 12,
   "id": "622b6f5e-eba4-4bb6-a04f-6b1c65ad504a",
   "metadata": {},
   "outputs": [],
   "source": [
    "#a) Hago listas que separan las variables dependiendo de su tipo\n",
    "\n",
    "variables_numericas=[\"LotFrontage\",\"LotArea\",\"OverallQual\",\"OverallCond\",\"YearBuilt\",\"YearRemodAdd\",\n",
    "           \"MasVnrArea\",\"BsmtFinSF1\",\"BsmtFinSF2\",\"BsmtUnfSF\",\"TotalBsmtSF\",\"1stFlrSF\",\n",
    "          \"2ndFlrSF\",\"LowQualFinSF\",\"GrLivArea\",\"BsmtFullBath\",\"BsmtHalfBath\",\"FullBath\",\n",
    "          \"HalfBath\",\"BedroomAbvGr\",\"KitchenAbvGr\",\"TotRmsAbvGrd\",\"Fireplaces\",\"GarageYrBlt\",\n",
    "          \"GarageCars\",\"GarageArea\",\"WoodDeckSF\",\"OpenPorchSF\",\"EnclosedPorch\",\"3SsnPorch\",\n",
    "           \"ScreenPorch\",\"PoolArea\",\"MiscVal\",\"YrSold\",\"MoSold\"]\n",
    "\n",
    "variables_categoricas=[\"MSSubClass\",\"MSZoning\",\"Street\",\"Alley\",\"LandContour\",\"Utilities\",\n",
    "            \"LotConfig\",\"Neighborhood\",\"Condition1\",\"Condition2\",\"BldgType\",\n",
    "            \"HouseStyle\",\"RoofStyle\",\"RoofMatl\",\"Exterior1st\",\"Exterior2nd\",\"MasVnrType\",\n",
    "            \"Foundation\",\"Heating\",\"Electrical\",\"GarageType\",\"MiscFeature\",\"SaleType\",\"SaleCondition\"]"
   ]
  },
  {
   "cell_type": "code",
   "execution_count": 13,
   "id": "f5cd0198-dd31-46b3-8c38-c6d979e78366",
   "metadata": {},
   "outputs": [],
   "source": [
    "#b) Establezco pasos de preprocesamiento con funciones de sklearn para cada tipo de datos en mi df\n",
    "\n",
    "#Preprocesamiento para variables numericas\n",
    "#Uso la funcion Pipeline para juntar distintos preprocesamientos en un unico paso, en este caso aplico Standar Scaler que va a estandarizar mis variables numericas\n",
    "# y simple imputer, que va a imputar valores faltantes con la media de las observaciones. Por ahora uso los parametros de default de las funciones\n",
    "procesamiento_numericas = Pipeline(\n",
    "    steps=[(\"scaler\", StandardScaler()),\n",
    "           (\"imputer\",SimpleImputer())])\n",
    "\n",
    "# Uso la funcion pipeline para aplicar un preprocesamiento a mis variables categoricas, en este caso solo aplico One Hote Encoder y establezo que las variables que no pasen por\n",
    "# este preprocesamiento deben ser ignoradas, esto es importante para evitar que el transformador tenga problemas al preprocesar datos que no ha visto, por ejemplo, los\n",
    "# datos del set de test\n",
    "procesamiento_categoricas = Pipeline(\n",
    "    steps=[(\"encoder\", OneHotEncoder(handle_unknown=\"ignore\"))])"
   ]
  },
  {
   "cell_type": "code",
   "execution_count": 14,
   "id": "df4a5021-6420-4a76-8481-00096b79c9d7",
   "metadata": {},
   "outputs": [],
   "source": [
    "#c) En esta celda junto los pasos que estableci en la celda anterior y le indico a Column trnasformer que columnas van a recibir cada tipo de preprocesamiento\n",
    "pasos_de_preprocesamiento = ColumnTransformer(\n",
    "    transformers=[\n",
    "        # \"Nombre que asigno al paso de procesamiento\", Nombre del pipeline, Lista de columnas a recibir ese preprocesamiento\n",
    "        (\"numericas\", procesamiento_numericas, variables_numericas),\n",
    "        # \"Nombre que asigno al paso de procesamiento\", Nombre del pipeline, Lista de columnas a recibir ese preprocesamiento\n",
    "        (\"categoricasl\", procesamiento_categoricas, variables_categoricas)\n",
    "        ],\n",
    "    # Comportamiento que defino para las variables que no recibieron ningun tipo de preprocesamiento, en este caso elijo tirarlas\n",
    "    remainder='drop'\n",
    "    )"
   ]
  },
  {
   "cell_type": "code",
   "execution_count": 15,
   "id": "479fdaa0-7bf6-48c0-bb92-fe3550c32900",
   "metadata": {},
   "outputs": [],
   "source": [
    "#d) finalmente aplico el preprocesameinto a mis datos, ya que en los pasos b y c unicamente define el preprocesamiento, pero no lo aplique. \n",
    "# Dado que se trata de mis datos de entrenamiento me gustaria que el procesamiento sea aprendido (fit) y que ademas de aprenderse se transformen los datos (transform)\n",
    "# por lo cual aplico fit_transform a mis datos.\n",
    "Datos_preprocesados=pasos_de_preprocesamiento.fit_transform(train)"
   ]
  },
  {
   "cell_type": "code",
   "execution_count": 22,
   "id": "ea9e3442-0565-4a8f-81d8-0e7ba36a059b",
   "metadata": {},
   "outputs": [
    {
     "data": {
      "text/plain": [
       "<1460x221 sparse matrix of type '<class 'numpy.float64'>'\n",
       "\twith 86140 stored elements in Compressed Sparse Row format>"
      ]
     },
     "execution_count": 22,
     "metadata": {},
     "output_type": "execute_result"
    }
   ],
   "source": [
    "Datos_preprocesados"
   ]
  },
  {
   "cell_type": "markdown",
   "id": "1090333a-361e-49fe-8054-09437bf3b6c8",
   "metadata": {},
   "source": [
    "### Modelado de datos: regresion lineal"
   ]
  },
  {
   "cell_type": "code",
   "execution_count": 16,
   "id": "76863ee3-08b3-40b4-867d-9e4d3892728c",
   "metadata": {},
   "outputs": [],
   "source": [
    "# A continuacion empleo regresion linear con sklearn para demostrar los pasos basicos de esta libreria, en iteraciones posteriorres agregare: 1) gridsearch, \n",
    "#2) mas modelos, 3) pipeline de modelado\n",
    "#Entreno mi regresor con los datos de entrenamiento\n",
    "regresion_lineal=LinearRegression().fit(Datos_preprocesados,y)"
   ]
  },
  {
   "cell_type": "code",
   "execution_count": 17,
   "id": "ccb78979-bf95-4fa7-8ee3-12ad9f4c56ea",
   "metadata": {},
   "outputs": [],
   "source": [
    "# Hago predicciones sobre mi set de test\n",
    "#1) aplico el preprocesamiento de datos, en este caso, no quiero volver a entrenar el preprocesamiento, por lo tanto solo aplico el metodo transform\n",
    "test=pd.read_csv('./Datos/test.csv')\n",
    "Test_preprocesados=pasos_de_preprocesamiento.transform(test)"
   ]
  },
  {
   "cell_type": "code",
   "execution_count": 18,
   "id": "194e9609-2c67-490f-a728-557a7a84cc98",
   "metadata": {},
   "outputs": [],
   "source": [
    "#2)Hago predicciones con mi modelo ya entrenado\n",
    "predicciones=regresion_lineal.predict(Test_preprocesados)"
   ]
  },
  {
   "cell_type": "code",
   "execution_count": 19,
   "id": "b79b65ca-5634-4f9f-9dbf-1206fb915b03",
   "metadata": {},
   "outputs": [],
   "source": [
    "#3) Mando mis predicciones a un archivo csv\n",
    "predicciones.tofile('./Resultados/predicciones.csv', sep=\",\")"
   ]
  }
 ],
 "metadata": {
  "kernelspec": {
   "display_name": "Python 3 (ipykernel)",
   "language": "python",
   "name": "python3"
  },
  "language_info": {
   "codemirror_mode": {
    "name": "ipython",
    "version": 3
   },
   "file_extension": ".py",
   "mimetype": "text/x-python",
   "name": "python",
   "nbconvert_exporter": "python",
   "pygments_lexer": "ipython3",
   "version": "3.10.6"
  }
 },
 "nbformat": 4,
 "nbformat_minor": 5
}
